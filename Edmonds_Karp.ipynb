{
  "nbformat": 4,
  "nbformat_minor": 0,
  "metadata": {
    "colab": {
      "provenance": [],
      "authorship_tag": "ABX9TyODfHDfQjjrl4073DwCTdvS",
      "include_colab_link": true
    },
    "kernelspec": {
      "name": "python3",
      "display_name": "Python 3"
    },
    "language_info": {
      "name": "python"
    }
  },
  "cells": [
    {
      "cell_type": "markdown",
      "metadata": {
        "id": "view-in-github",
        "colab_type": "text"
      },
      "source": [
        "<a href=\"https://colab.research.google.com/github/newmantic/Edmonds_Karp/blob/main/Edmonds_Karp.ipynb\" target=\"_parent\"><img src=\"https://colab.research.google.com/assets/colab-badge.svg\" alt=\"Open In Colab\"/></a>"
      ]
    },
    {
      "cell_type": "code",
      "execution_count": 1,
      "metadata": {
        "id": "k4JxUG7Ujh3B"
      },
      "outputs": [],
      "source": [
        "from collections import deque, defaultdict\n",
        "\n",
        "class EdmondsKarp:\n",
        "    def __init__(self, graph):\n",
        "        \"\"\"\n",
        "        Initialize the Edmonds-Karp algorithm.\n",
        "        :param graph: A dictionary where the keys are nodes and the values are dictionaries\n",
        "                      of neighbors with the capacity of the edge as the value.\n",
        "                      For example: {0: {1: 16, 2: 13}, 1: {2: 10, 3: 12}, ...}\n",
        "        \"\"\"\n",
        "        self.graph = graph\n",
        "        self.residual_graph = defaultdict(dict)\n",
        "        for u in graph:\n",
        "            for v in graph[u]:\n",
        "                self.residual_graph[u][v] = graph[u][v]\n",
        "                if v not in self.residual_graph:\n",
        "                    self.residual_graph[v] = {}\n",
        "                self.residual_graph[v][u] = 0\n",
        "\n",
        "    def bfs(self, source, sink, parent):\n",
        "        \"\"\"\n",
        "        Perform BFS to find an augmenting path in the residual graph.\n",
        "        :param source: The source node.\n",
        "        :param sink: The sink node.\n",
        "        :param parent: A dictionary to store the path.\n",
        "        :return: True if there is a path from source to sink, False otherwise.\n",
        "        \"\"\"\n",
        "        visited = set()\n",
        "        queue = deque([source])\n",
        "        visited.add(source)\n",
        "\n",
        "        while queue:\n",
        "            u = queue.popleft()\n",
        "\n",
        "            for v in self.residual_graph[u]:\n",
        "                if v not in visited and self.residual_graph[u][v] > 0:\n",
        "                    parent[v] = u\n",
        "                    if v == sink:\n",
        "                        return True\n",
        "                    queue.append(v)\n",
        "                    visited.add(v)\n",
        "        return False\n",
        "\n",
        "    def edmonds_karp(self, source, sink):\n",
        "        \"\"\"\n",
        "        Execute the Edmonds-Karp algorithm to find the maximum flow from source to sink.\n",
        "        :param source: The source node.\n",
        "        :param sink: The sink node.\n",
        "        :return: The maximum flow value.\n",
        "        \"\"\"\n",
        "        parent = {}\n",
        "        max_flow = 0\n",
        "\n",
        "        while self.bfs(source, sink, parent):\n",
        "            path_flow = float('Inf')\n",
        "            s = sink\n",
        "\n",
        "            while s != source:\n",
        "                path_flow = min(path_flow, self.residual_graph[parent[s]][s])\n",
        "                s = parent[s]\n",
        "\n",
        "            max_flow += path_flow\n",
        "\n",
        "            v = sink\n",
        "            while v != source:\n",
        "                u = parent[v]\n",
        "                self.residual_graph[u][v] -= path_flow\n",
        "                self.residual_graph[v][u] += path_flow\n",
        "                v = parent[v]\n",
        "\n",
        "        return max_flow"
      ]
    },
    {
      "cell_type": "code",
      "source": [
        "def test_case_1():\n",
        "    graph = {\n",
        "        0: {1: 16, 2: 13},\n",
        "        1: {2: 10, 3: 12},\n",
        "        2: {1: 4, 4: 14},\n",
        "        3: {2: 9, 5: 20},\n",
        "        4: {3: 7, 5: 4},\n",
        "        5: {}\n",
        "    }\n",
        "    ek = EdmondsKarp(graph)\n",
        "    max_flow = ek.edmonds_karp(0, 5)\n",
        "    print(f\"Max Flow: {max_flow}\")  # Expected: 23\n",
        "\n",
        "test_case_1()"
      ],
      "metadata": {
        "colab": {
          "base_uri": "https://localhost:8080/"
        },
        "id": "HVyoQem4j28U",
        "outputId": "46a98f5a-528b-4d3c-eecd-47df42c501c8"
      },
      "execution_count": 2,
      "outputs": [
        {
          "output_type": "stream",
          "name": "stdout",
          "text": [
            "Max Flow: 23\n"
          ]
        }
      ]
    },
    {
      "cell_type": "code",
      "source": [
        "def test_case_2():\n",
        "    graph = {\n",
        "        0: {1: 10, 2: 10},\n",
        "        1: {3: 4, 2: 2, 4: 8},\n",
        "        2: {4: 9},\n",
        "        3: {5: 10},\n",
        "        4: {3: 6, 5: 10},\n",
        "        5: {}\n",
        "    }\n",
        "    ek = EdmondsKarp(graph)\n",
        "    max_flow = ek.edmonds_karp(0, 5)\n",
        "    print(f\"Max Flow: {max_flow}\")  # Expected: 19\n",
        "\n",
        "test_case_2()"
      ],
      "metadata": {
        "colab": {
          "base_uri": "https://localhost:8080/"
        },
        "id": "Xm90KHl2j5Tp",
        "outputId": "21e3b03f-8108-4361-8ecf-8e3f67ee0ff7"
      },
      "execution_count": 3,
      "outputs": [
        {
          "output_type": "stream",
          "name": "stdout",
          "text": [
            "Max Flow: 19\n"
          ]
        }
      ]
    },
    {
      "cell_type": "code",
      "source": [
        "def test_case_3():\n",
        "    graph = {\n",
        "        0: {1: 10, 2: 5},\n",
        "        1: {3: 9},\n",
        "        2: {3: 8},\n",
        "        3: {4: 10},\n",
        "        4: {5: 10},\n",
        "        5: {}\n",
        "    }\n",
        "\n",
        "    # Adding a super-source (6) and super-sink (7)\n",
        "    graph[6] = {0: 15, 1: 10}\n",
        "    graph[4][7] = 15\n",
        "    graph[5][7] = 10\n",
        "\n",
        "    ek = EdmondsKarp(graph)\n",
        "    max_flow = ek.edmonds_karp(6, 7)\n",
        "    print(f\"Max Flow: {max_flow}\")  # Expected: 15\n",
        "\n",
        "test_case_3()"
      ],
      "metadata": {
        "colab": {
          "base_uri": "https://localhost:8080/"
        },
        "id": "dOUHo-f4j8F1",
        "outputId": "c248174f-eee5-4e4c-860d-a7ac0bed1683"
      },
      "execution_count": 4,
      "outputs": [
        {
          "output_type": "stream",
          "name": "stdout",
          "text": [
            "Max Flow: 10\n"
          ]
        }
      ]
    }
  ]
}